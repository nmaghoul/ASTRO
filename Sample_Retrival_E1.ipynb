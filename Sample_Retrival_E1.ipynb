{
 "cells": [
  {
   "cell_type": "code",
   "execution_count": 1,
   "metadata": {
    "collapsed": true
   },
   "outputs": [],
   "source": [
    "import pandas as pd\n",
    "import numpy as np \n",
    "G2 = pd.read_csv('zoo2MainSpecz.csv')\n",
    "G1 = pd.read_csv('GalaxyZoo1_DR_table2.csv')\n"
   ]
  },
  {
   "cell_type": "code",
   "execution_count": 5,
   "metadata": {
    "collapsed": false
   },
   "outputs": [
    {
     "data": {
      "text/plain": [
       "190225"
      ]
     },
     "execution_count": 5,
     "metadata": {},
     "output_type": "execute_result"
    }
   ],
   "source": [
    "G1_UC = G1[G1['UNCERTAIN'] == 1]\n",
    "G1_Spiral = G1[G1['SPIRAL'] == 1].reset_index()\n",
    "G1_Ellipse = G1[G1['ELLIPTICAL'] == 1].reset_index()\n",
    "len(G1_Spiral)"
   ]
  },
  {
   "cell_type": "code",
   "execution_count": 4,
   "metadata": {
    "collapsed": false
   },
   "outputs": [],
   "source": [
    "import urllib\n",
    "\n",
    "Ellipse = \"Ellipse_Images\"\n",
    "folder = \"Galaxy_Images\"\n",
    "linkp1 = 'http://skyservice.pha.jhu.edu/DR7/ImgCutout/getjpeg.aspx?ra='\n",
    "linkp2 = '&scale=0.2&width=100&height=100'\n",
    "for i in range(len(G1_Ellipse.index)):\n",
    "    name = str(G1_Ellipse['OBJID'][i])\n",
    "    urllib.urlretrieve(linkp1+str(G1_Ellipse['RA'][i]+'&'+'dec='+str(G1_Ellipse['DEC'][i])+linkp2),Ellipse+'/'+name+'.jpg')\n",
    "    #print str(i)+' out of ' + str(len(G1)) + ' ' + str(float(i/len(G1))) + ' % Complete'\n"
   ]
  },
  {
   "cell_type": "code",
   "execution_count": null,
   "metadata": {
    "collapsed": true
   },
   "outputs": [],
   "source": []
  }
 ],
 "metadata": {
  "kernelspec": {
   "display_name": "Python [Root]",
   "language": "python",
   "name": "Python [Root]"
  },
  "language_info": {
   "codemirror_mode": {
    "name": "ipython",
    "version": 2
   },
   "file_extension": ".py",
   "mimetype": "text/x-python",
   "name": "python",
   "nbconvert_exporter": "python",
   "pygments_lexer": "ipython2",
   "version": "2.7.12"
  }
 },
 "nbformat": 4,
 "nbformat_minor": 0
}
