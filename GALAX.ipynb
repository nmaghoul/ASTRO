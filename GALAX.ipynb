{
 "cells": [
  {
   "cell_type": "code",
   "execution_count": 1,
   "metadata": {
    "collapsed": false
   },
   "outputs": [
    {
     "name": "stderr",
     "output_type": "stream",
     "text": [
      "/Users/nmaghoul/anaconda/lib/python2.7/site-packages/matplotlib/font_manager.py:273: UserWarning: Matplotlib is building the font cache using fc-list. This may take a moment.\n",
      "  warnings.warn('Matplotlib is building the font cache using fc-list. This may take a moment.')\n"
     ]
    }
   ],
   "source": [
    "import pandas as pd\n",
    "import numpy as np\n",
    "import matplotlib.pyplot as plt\n",
    "import seaborn as sb\n",
    "%matplotlib inline "
   ]
  },
  {
   "cell_type": "code",
   "execution_count": 2,
   "metadata": {
    "collapsed": false
   },
   "outputs": [],
   "source": [
    "G2 = pd.read_csv('zoo2MainSpecz.csv')\n",
    "G1 = pd.read_csv('GalaxyZoo1_DR_table2.csv')\n",
    "\n",
    "#G1['DEC'] = G1['DEC'].map(lambda x: x.lstrip('+'))\n",
    "#G1['DEC'] = G1['DEC'].str.split(':').apply(lambda x: float(x[0])*15 + float(x[1])*15/60 + float(x[2])*15/3600)\n",
    "#G1['RA'] = G1['RA'].str.split(':').apply(lambda x: float(x[0])*15 + float(x[1])/4 + float(x[2])*15/3600)"
   ]
  },
  {
   "cell_type": "code",
   "execution_count": 3,
   "metadata": {
    "collapsed": false
   },
   "outputs": [
    {
     "data": {
      "text/html": [
       "<div>\n",
       "<table border=\"1\" class=\"dataframe\">\n",
       "  <thead>\n",
       "    <tr style=\"text-align: right;\">\n",
       "      <th></th>\n",
       "      <th>OBJID</th>\n",
       "      <th>RA</th>\n",
       "      <th>DEC</th>\n",
       "      <th>NVOTE</th>\n",
       "      <th>P_EL</th>\n",
       "      <th>P_CW</th>\n",
       "      <th>P_ACW</th>\n",
       "      <th>P_EDGE</th>\n",
       "      <th>P_DK</th>\n",
       "      <th>P_MG</th>\n",
       "      <th>P_CS</th>\n",
       "      <th>P_EL_DEBIASED</th>\n",
       "      <th>P_CS_DEBIASED</th>\n",
       "      <th>SPIRAL</th>\n",
       "      <th>ELLIPTICAL</th>\n",
       "      <th>UNCERTAIN</th>\n",
       "    </tr>\n",
       "  </thead>\n",
       "  <tbody>\n",
       "    <tr>\n",
       "      <th>0</th>\n",
       "      <td>587727178986356823</td>\n",
       "      <td>00:00:00.41</td>\n",
       "      <td>-10:22:25.7</td>\n",
       "      <td>59</td>\n",
       "      <td>0.610</td>\n",
       "      <td>0.034</td>\n",
       "      <td>0.000</td>\n",
       "      <td>0.153</td>\n",
       "      <td>0.153</td>\n",
       "      <td>0.051</td>\n",
       "      <td>0.186</td>\n",
       "      <td>0.610</td>\n",
       "      <td>0.186</td>\n",
       "      <td>0</td>\n",
       "      <td>0</td>\n",
       "      <td>1</td>\n",
       "    </tr>\n",
       "    <tr>\n",
       "      <th>1</th>\n",
       "      <td>587727227300741210</td>\n",
       "      <td>00:00:00.74</td>\n",
       "      <td>-09:13:20.2</td>\n",
       "      <td>18</td>\n",
       "      <td>0.611</td>\n",
       "      <td>0.000</td>\n",
       "      <td>0.167</td>\n",
       "      <td>0.222</td>\n",
       "      <td>0.000</td>\n",
       "      <td>0.000</td>\n",
       "      <td>0.389</td>\n",
       "      <td>0.203</td>\n",
       "      <td>0.797</td>\n",
       "      <td>1</td>\n",
       "      <td>0</td>\n",
       "      <td>0</td>\n",
       "    </tr>\n",
       "    <tr>\n",
       "      <th>2</th>\n",
       "      <td>587727225153257596</td>\n",
       "      <td>00:00:01.03</td>\n",
       "      <td>-10:56:48.0</td>\n",
       "      <td>68</td>\n",
       "      <td>0.735</td>\n",
       "      <td>0.029</td>\n",
       "      <td>0.000</td>\n",
       "      <td>0.147</td>\n",
       "      <td>0.074</td>\n",
       "      <td>0.015</td>\n",
       "      <td>0.176</td>\n",
       "      <td>0.432</td>\n",
       "      <td>0.428</td>\n",
       "      <td>0</td>\n",
       "      <td>0</td>\n",
       "      <td>1</td>\n",
       "    </tr>\n",
       "    <tr>\n",
       "      <th>3</th>\n",
       "      <td>587730774962536596</td>\n",
       "      <td>00:00:01.38</td>\n",
       "      <td>+15:30:35.3</td>\n",
       "      <td>52</td>\n",
       "      <td>0.885</td>\n",
       "      <td>0.019</td>\n",
       "      <td>0.000</td>\n",
       "      <td>0.058</td>\n",
       "      <td>0.019</td>\n",
       "      <td>0.019</td>\n",
       "      <td>0.077</td>\n",
       "      <td>0.885</td>\n",
       "      <td>0.077</td>\n",
       "      <td>0</td>\n",
       "      <td>1</td>\n",
       "      <td>0</td>\n",
       "    </tr>\n",
       "    <tr>\n",
       "      <th>4</th>\n",
       "      <td>587731186203885750</td>\n",
       "      <td>00:00:01.55</td>\n",
       "      <td>-00:05:33.3</td>\n",
       "      <td>59</td>\n",
       "      <td>0.712</td>\n",
       "      <td>0.000</td>\n",
       "      <td>0.000</td>\n",
       "      <td>0.220</td>\n",
       "      <td>0.068</td>\n",
       "      <td>0.000</td>\n",
       "      <td>0.220</td>\n",
       "      <td>0.640</td>\n",
       "      <td>0.290</td>\n",
       "      <td>0</td>\n",
       "      <td>0</td>\n",
       "      <td>1</td>\n",
       "    </tr>\n",
       "    <tr>\n",
       "      <th>5</th>\n",
       "      <td>587727180060098638</td>\n",
       "      <td>00:00:01.57</td>\n",
       "      <td>-09:29:40.3</td>\n",
       "      <td>28</td>\n",
       "      <td>0.857</td>\n",
       "      <td>0.000</td>\n",
       "      <td>0.036</td>\n",
       "      <td>0.000</td>\n",
       "      <td>0.107</td>\n",
       "      <td>0.000</td>\n",
       "      <td>0.036</td>\n",
       "      <td>0.830</td>\n",
       "      <td>0.060</td>\n",
       "      <td>0</td>\n",
       "      <td>0</td>\n",
       "      <td>1</td>\n",
       "    </tr>\n",
       "    <tr>\n",
       "      <th>6</th>\n",
       "      <td>587731187277627676</td>\n",
       "      <td>00:00:01.86</td>\n",
       "      <td>+00:43:09.3</td>\n",
       "      <td>38</td>\n",
       "      <td>0.500</td>\n",
       "      <td>0.000</td>\n",
       "      <td>0.053</td>\n",
       "      <td>0.289</td>\n",
       "      <td>0.105</td>\n",
       "      <td>0.053</td>\n",
       "      <td>0.342</td>\n",
       "      <td>0.351</td>\n",
       "      <td>0.473</td>\n",
       "      <td>0</td>\n",
       "      <td>0</td>\n",
       "      <td>1</td>\n",
       "    </tr>\n",
       "    <tr>\n",
       "      <th>7</th>\n",
       "      <td>587727223024189605</td>\n",
       "      <td>00:00:02.00</td>\n",
       "      <td>+15:41:49.8</td>\n",
       "      <td>26</td>\n",
       "      <td>0.423</td>\n",
       "      <td>0.000</td>\n",
       "      <td>0.000</td>\n",
       "      <td>0.577</td>\n",
       "      <td>0.000</td>\n",
       "      <td>0.000</td>\n",
       "      <td>0.577</td>\n",
       "      <td>0.143</td>\n",
       "      <td>0.857</td>\n",
       "      <td>1</td>\n",
       "      <td>0</td>\n",
       "      <td>0</td>\n",
       "    </tr>\n",
       "    <tr>\n",
       "      <th>8</th>\n",
       "      <td>587730775499407375</td>\n",
       "      <td>00:00:02.10</td>\n",
       "      <td>+15:52:54.2</td>\n",
       "      <td>62</td>\n",
       "      <td>0.355</td>\n",
       "      <td>0.016</td>\n",
       "      <td>0.210</td>\n",
       "      <td>0.323</td>\n",
       "      <td>0.000</td>\n",
       "      <td>0.097</td>\n",
       "      <td>0.548</td>\n",
       "      <td>0.355</td>\n",
       "      <td>0.548</td>\n",
       "      <td>0</td>\n",
       "      <td>0</td>\n",
       "      <td>1</td>\n",
       "    </tr>\n",
       "    <tr>\n",
       "      <th>9</th>\n",
       "      <td>587727221950382424</td>\n",
       "      <td>00:00:02.41</td>\n",
       "      <td>+14:49:19.0</td>\n",
       "      <td>31</td>\n",
       "      <td>0.484</td>\n",
       "      <td>0.129</td>\n",
       "      <td>0.065</td>\n",
       "      <td>0.258</td>\n",
       "      <td>0.065</td>\n",
       "      <td>0.000</td>\n",
       "      <td>0.452</td>\n",
       "      <td>0.109</td>\n",
       "      <td>0.789</td>\n",
       "      <td>1</td>\n",
       "      <td>0</td>\n",
       "      <td>0</td>\n",
       "    </tr>\n",
       "  </tbody>\n",
       "</table>\n",
       "</div>"
      ],
      "text/plain": [
       "                OBJID           RA          DEC  NVOTE   P_EL   P_CW  P_ACW  \\\n",
       "0  587727178986356823  00:00:00.41  -10:22:25.7     59  0.610  0.034  0.000   \n",
       "1  587727227300741210  00:00:00.74  -09:13:20.2     18  0.611  0.000  0.167   \n",
       "2  587727225153257596  00:00:01.03  -10:56:48.0     68  0.735  0.029  0.000   \n",
       "3  587730774962536596  00:00:01.38  +15:30:35.3     52  0.885  0.019  0.000   \n",
       "4  587731186203885750  00:00:01.55  -00:05:33.3     59  0.712  0.000  0.000   \n",
       "5  587727180060098638  00:00:01.57  -09:29:40.3     28  0.857  0.000  0.036   \n",
       "6  587731187277627676  00:00:01.86  +00:43:09.3     38  0.500  0.000  0.053   \n",
       "7  587727223024189605  00:00:02.00  +15:41:49.8     26  0.423  0.000  0.000   \n",
       "8  587730775499407375  00:00:02.10  +15:52:54.2     62  0.355  0.016  0.210   \n",
       "9  587727221950382424  00:00:02.41  +14:49:19.0     31  0.484  0.129  0.065   \n",
       "\n",
       "   P_EDGE   P_DK   P_MG   P_CS  P_EL_DEBIASED  P_CS_DEBIASED  SPIRAL  \\\n",
       "0   0.153  0.153  0.051  0.186          0.610          0.186       0   \n",
       "1   0.222  0.000  0.000  0.389          0.203          0.797       1   \n",
       "2   0.147  0.074  0.015  0.176          0.432          0.428       0   \n",
       "3   0.058  0.019  0.019  0.077          0.885          0.077       0   \n",
       "4   0.220  0.068  0.000  0.220          0.640          0.290       0   \n",
       "5   0.000  0.107  0.000  0.036          0.830          0.060       0   \n",
       "6   0.289  0.105  0.053  0.342          0.351          0.473       0   \n",
       "7   0.577  0.000  0.000  0.577          0.143          0.857       1   \n",
       "8   0.323  0.000  0.097  0.548          0.355          0.548       0   \n",
       "9   0.258  0.065  0.000  0.452          0.109          0.789       1   \n",
       "\n",
       "   ELLIPTICAL  UNCERTAIN  \n",
       "0           0          1  \n",
       "1           0          0  \n",
       "2           0          1  \n",
       "3           1          0  \n",
       "4           0          1  \n",
       "5           0          1  \n",
       "6           0          1  \n",
       "7           0          0  \n",
       "8           0          1  \n",
       "9           0          0  "
      ]
     },
     "execution_count": 3,
     "metadata": {},
     "output_type": "execute_result"
    }
   ],
   "source": [
    "G1[:10]\n"
   ]
  },
  {
   "cell_type": "code",
   "execution_count": 5,
   "metadata": {
    "collapsed": false
   },
   "outputs": [],
   "source": [
    "G1_UC = G1[G1['UNCERTAIN'] == 1]\n",
    "G1_Spiral = G1[G1['SPIRAL'] == 1].reset_index()\n",
    "G1_Ellipse = G1[G1['ELLIPTICAL'] == 1].reset_index()"
   ]
  },
  {
   "cell_type": "code",
   "execution_count": 19,
   "metadata": {
    "collapsed": false
   },
   "outputs": [
    {
     "name": "stdout",
     "output_type": "stream",
     "text": [
      "[587727227300741210]\n"
     ]
    }
   ],
   "source": [
    "#spiral_id = G1_Spiral['OBJID'].as_matrix\n",
    "# spiral_id\n",
    "len(G1_Spiral.index)\n",
    "spiral_id = []\n",
    "for i in range(len(G1_Spiral.index)):\n",
    "  spiral_id.append([G1_Spiral['OBJID'][i]])\n",
    "type(G1_Spiral['OBJID'][0])\n",
    "str(G1_Spiral['OBJID'][0])\n",
    "print str(spiral_id[0])\n"
   ]
  },
  {
   "cell_type": "code",
   "execution_count": 22,
   "metadata": {
    "collapsed": false
   },
   "outputs": [
    {
     "data": {
      "text/plain": [
       "667944"
      ]
     },
     "execution_count": 22,
     "metadata": {},
     "output_type": "execute_result"
    }
   ],
   "source": [
    "len(G1)"
   ]
  },
  {
   "cell_type": "code",
   "execution_count": 26,
   "metadata": {
    "collapsed": false
   },
   "outputs": [
    {
     "name": "stdout",
     "output_type": "stream",
     "text": [
      " 0 of 667944\n",
      "1 of 667944\n",
      "2 of 667944\n"
     ]
    }
   ],
   "source": [
    "import urllib3.request\n",
    "\n",
    "#import urllib2.parse_http_list\n",
    "import re\n",
    "urllist = []\n",
    "# taking the url of the spiral galaxies into an array\n",
    "for i in range(3):\n",
    "    # http://skyserver.sdss.org/dr12/SkyserverWS/ImgCutout/getjpeg?TaskName=Skyserver.Explore.Image&ra=00:00:02.00&dec=15:41:49.8&scale=0.2&width=200&height=200\n",
    "    urllist.append('http://skyservice.pha.jhu.edu/DR7/ImgCutout/getjpeg.aspx?ra='+str(G1['RA'][i])+'&'+'dec='+str(G1['DEC'][i])+'&scale=0.2&width=200&height=200')\n",
    "    print str(i) + \" of \" + str(len(G1))\n",
    "    \n",
    "# y  = urllib2.urlopen('http://skyserver.sdss.org/dr7/en/tools/explore/obj.asp?id='+str(G1_Spiral['OBJID'][0]))\n",
    "# print (y.read())\n",
    "# print urllist"
   ]
  },
  {
   "cell_type": "code",
   "execution_count": 62,
   "metadata": {
    "collapsed": false
   },
   "outputs": [
    {
     "ename": "SyntaxError",
     "evalue": "EOL while scanning string literal (<ipython-input-62-0686a62a01ac>, line 3)",
     "output_type": "error",
     "traceback": [
      "\u001b[0;36m  File \u001b[0;32m\"<ipython-input-62-0686a62a01ac>\"\u001b[0;36m, line \u001b[0;32m3\u001b[0m\n\u001b[0;31m    '\u001b[0m\n\u001b[0m    ^\u001b[0m\n\u001b[0;31mSyntaxError\u001b[0m\u001b[0;31m:\u001b[0m EOL while scanning string literal\n"
     ]
    }
   ],
   "source": [
    "import os\n",
    "import image_scraper\n",
    "'\n",
    "for i in range(3):\n",
    "    # http://skyserver.sdss.org/dr12/SkyserverWS/ImgCutout/getjpeg?TaskName=Skyserver.Explore.Image&ra=00:00:02.00&dec=15:41:49.8&scale=0.2&width=200&height=200\n",
    "    os.system(linkp1+str(G1['RA'][i])+'&'+'dec='+str(G1['DEC'][i])+'&scale=0.2&width=200&height=200')\n",
    "    print str(i) + \" of \" + str(len(G1))\n",
    "    "
   ]
  },
  {
   "cell_type": "code",
   "execution_count": 8,
   "metadata": {
    "collapsed": false
   },
   "outputs": [
    {
     "data": {
      "text/plain": [
       "190225"
      ]
     },
     "execution_count": 8,
     "metadata": {},
     "output_type": "execute_result"
    }
   ],
   "source": [
    "#G1_Spiral[:1]\n",
    "type(G1['OBJID'][0])\n",
    "s = 'd'\n",
    "len(G1_Spiral)"
   ]
  },
  {
   "cell_type": "code",
   "execution_count": 9,
   "metadata": {
    "collapsed": false
   },
   "outputs": [],
   "source": [
    "import urllib\n",
    "\n",
    "Spiral = \"Spiral_Images\"\n",
    "folder = \"Galaxy_Images\"\n",
    "linkp1 = 'http://skyservice.pha.jhu.edu/DR7/ImgCutout/getjpeg.aspx?ra='\n",
    "linkp2 = '&scale=0.2&width=100&height=100'\n",
    "for i in range(len(G1_Spiral.index)):\n",
    "    name = str(G1_Spiral['OBJID'][i])\n",
    "    urllib.urlretrieve(linkp1+str(G1_Spiral['RA'][i]+'&'+'dec='+str(G1_Spiral['DEC'][i])+linkp2),Spiral+'/'+name+'.jpg')\n",
    "    #print str(i)+' out of ' + str(len(G1)) + ' ' + str(float(i/len(G1))) + ' % Complete'\n"
   ]
  },
  {
   "cell_type": "code",
   "execution_count": null,
   "metadata": {
    "collapsed": true
   },
   "outputs": [],
   "source": []
  }
 ],
 "metadata": {
  "anaconda-cloud": {},
  "kernelspec": {
   "display_name": "Python [default]",
   "language": "python",
   "name": "python2"
  },
  "language_info": {
   "codemirror_mode": {
    "name": "ipython",
    "version": 2
   },
   "file_extension": ".py",
   "mimetype": "text/x-python",
   "name": "python",
   "nbconvert_exporter": "python",
   "pygments_lexer": "ipython2",
   "version": "2.7.12"
  }
 },
 "nbformat": 4,
 "nbformat_minor": 0
}
