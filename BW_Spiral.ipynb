{
 "cells": [
  {
   "cell_type": "code",
   "execution_count": 1,
   "metadata": {
    "collapsed": false
   },
   "outputs": [
    {
     "name": "stderr",
     "output_type": "stream",
     "text": [
      "/Users/nmaghoul/anaconda/lib/python2.7/site-packages/matplotlib/font_manager.py:273: UserWarning: Matplotlib is building the font cache using fc-list. This may take a moment.\n",
      "  warnings.warn('Matplotlib is building the font cache using fc-list. This may take a moment.')\n"
     ]
    }
   ],
   "source": [
    "from PIL import Image\n",
    "import PIL.ImageOps\n",
    "import os\n",
    "import sys"
   ]
  },
  {
   "cell_type": "code",
   "execution_count": null,
   "metadata": {
    "collapsed": true
   },
   "outputs": [],
   "source": []
  },
  {
   "cell_type": "code",
   "execution_count": 8,
   "metadata": {
    "collapsed": false
   },
   "outputs": [],
   "source": [
    "Orig = 'Galaxy_Images'\n",
    "Ellipse = 'Ellipse_Images'\n",
    "Spiral = 'Spiral_Images'\n",
    "Elbw = 'BW_Ellipse'\n",
    "Spbw = 'BW_Spiral'\n",
    "BW = 'BW'\n",
    "Monochrome = 'Monochrome'\n",
    "filenames = os.listdir(Ellipse)\n",
    "len(filenames)\n",
    "for i in range(1, len(filenames)-1):\n",
    "    img = Image.open(Ellipse+'/'+filenames[i])\n",
    "    #BW = img.convert('1') # Convert to BW\n",
    "    MC = img.convert('L')\n",
    "    MC.save(Elbw+'/'+'MC_'+ filenames[i])\n",
    "    #BW.save('BW'+'/' + 'BW_'+ filenames[i])\n",
    "    #print i/float(len(filenames)-1)*100\n",
    "    #sys.stdout.write(i/float(len(filenames)-1)*100)\n",
    "    #sys.stdout.flush()"
   ]
  },
  {
   "cell_type": "code",
   "execution_count": null,
   "metadata": {
    "collapsed": true
   },
   "outputs": [],
   "source": []
  }
 ],
 "metadata": {
  "anaconda-cloud": {},
  "kernelspec": {
   "display_name": "Python [conda root]",
   "language": "python",
   "name": "conda-root-py"
  },
  "language_info": {
   "codemirror_mode": {
    "name": "ipython",
    "version": 2
   },
   "file_extension": ".py",
   "mimetype": "text/x-python",
   "name": "python",
   "nbconvert_exporter": "python",
   "pygments_lexer": "ipython2",
   "version": "2.7.12"
  }
 },
 "nbformat": 4,
 "nbformat_minor": 0
}
