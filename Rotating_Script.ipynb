{
 "cells": [
  {
   "cell_type": "code",
   "execution_count": 21,
   "metadata": {
    "collapsed": true
   },
   "outputs": [],
   "source": [
    "import urllib \n",
    "from PIL import Image\n",
    "import PIL.ImageOps\n",
    "import os\n",
    "import sys\n"
   ]
  },
  {
   "cell_type": "code",
   "execution_count": 22,
   "metadata": {
    "collapsed": true
   },
   "outputs": [],
   "source": [
    "Ellipse_dir = \"Galaxies/Color_Images/Ellipse_Images\"\n",
    "Spiral_dir = \"Galaxies/Color_Images/Spiral_Images\""
   ]
  },
  {
   "cell_type": "code",
   "execution_count": 26,
   "metadata": {
    "collapsed": false
   },
   "outputs": [
    {
     "name": "stdout",
     "output_type": "stream",
     "text": [
      "Done\n"
     ]
    }
   ],
   "source": [
    "Spiral_Rot = 'Spiral_Rot'\n",
    "Ellipse_Rot = 'Ellipse_Rot'\n",
    "\n",
    "Spiral_files = os.listdir(Spiral_dir)\n",
    "Ellipse_files = os.listdir(Ellipse_dir)\n",
    "\n",
    "for i in range(1, len(Spiral_files)):\n",
    "    img = Image.open(Spiral_dir + '/' + Spiral_files[i])\n",
    "    img90 = img.rotate(90)\n",
    "    img180 = img.rotate(180)\n",
    "    img270 = img.rotate(-90)\n",
    "    img90.save('Galaxies/Color_Images/Spiral_Rot/'+ '90R_'+ Spiral_files[i])\n",
    "    img180.save('Galaxies/Color_Images/Spiral_Rot/'+ '180R-'+ Spiral_files[i])\n",
    "    img270.save('Galaxies/Color_Images/Spiral_Rot/'+ '270R_'+ Spiral_files[i])\n",
    "\n",
    "print 'Done'\n"
   ]
  },
  {
   "cell_type": "code",
   "execution_count": 29,
   "metadata": {
    "collapsed": false
   },
   "outputs": [],
   "source": [
    "for i in range(1, len(Ellipse_files)):\n",
    "    img = Image.open(Ellipse_dir + '/' + Ellipse_files[i])\n",
    "    img90 = img.rotate(90)\n",
    "    img180 = img.rotate(180)\n",
    "    img270 = img.rotate(-90)\n",
    "    img90.save('Galaxies/Color_Images/Ellipse_Rot/'+ '90R_'+ Ellipse_files[i])\n",
    "    img180.save('Galaxies/Color_Images/Ellipse_Rot/'+ '180R-'+ Ellipse_files[i])\n",
    "    img270.save('Galaxies/Color_Images/Ellipse_Rot/'+ '270R_'+ Ellipse_files[i])"
   ]
  },
  {
   "cell_type": "code",
   "execution_count": null,
   "metadata": {
    "collapsed": true
   },
   "outputs": [],
   "source": []
  }
 ],
 "metadata": {
  "anaconda-cloud": {},
  "kernelspec": {
   "display_name": "Python [conda root]",
   "language": "python",
   "name": "conda-root-py"
  },
  "language_info": {
   "codemirror_mode": {
    "name": "ipython",
    "version": 2
   },
   "file_extension": ".py",
   "mimetype": "text/x-python",
   "name": "python",
   "nbconvert_exporter": "python",
   "pygments_lexer": "ipython2",
   "version": "2.7.12"
  }
 },
 "nbformat": 4,
 "nbformat_minor": 1
}
