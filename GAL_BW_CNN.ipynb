{
 "cells": [
  {
   "cell_type": "code",
   "execution_count": 1,
   "metadata": {
    "collapsed": true
   },
   "outputs": [],
   "source": [
    "import tensorflow as tf \n",
    "import numpy as np \n",
    "import matplotlib.pyplot as plt \n",
    "import os \n",
    "from PIL import Image\n",
    "import matplotlib.image as mpimg\n",
    "%matplotlib inline\n",
    "\n"
   ]
  },
  {
   "cell_type": "code",
   "execution_count": 2,
   "metadata": {
    "collapsed": false
   },
   "outputs": [
    {
     "name": "stdout",
     "output_type": "stream",
     "text": [
      "190215\n",
      "62180\n"
     ]
    }
   ],
   "source": [
    "## Importing our Images\n",
    "ellipse =  'BW_Images/BW_Ellipse/'\n",
    "spiral = 'BW_Images/BW_Spiral/'\n",
    "path_sp = os.listdir(spiral)\n",
    "path_el = os.listdir(ellipse)\n",
    "print len(path_sp)\n",
    "print len(path_el)\n",
    "##### Building a Training Data\n",
    "el_train = []\n",
    "for i in range(1,100):\n",
    "    im = mpimg.imread(ellipse + path_el[i])\n",
    "    el_train.append(np.ravel(im))\n",
    "sp_train = [] \n",
    "for i in range(1,100):\n",
    "    im = mpimg.imread(spiral + path_sp[i])\n",
    "    sp_train.append(np.ravel(im))\n",
    "## Creating a training set\n",
    "y_el_train = []\n",
    "y_sp_train = []\n",
    "for i in range(0,len(el_train)):\n",
    "    y_el_train.append([0,1])\n",
    "for i in range(0,len(sp_train)):\n",
    "    y_sp_train.append([1,0])\n",
    "X_train = el_train + sp_train\n",
    "y_train = y_el_train + y_sp_train\n",
    "\n",
    "######## Building the Test Data\n",
    "el_test = []\n",
    "sp_test = []\n",
    "for i in range(1780,1800):\n",
    "    im = mpimg.imread(ellipse + path_el[i])\n",
    "    el_test.append(np.ravel(im))\n",
    "\n",
    "for i in range(1780,1800):\n",
    "    im = mpimg.imread(spiral + path_sp[i])\n",
    "    sp_test.append(np.ravel(im))\n",
    "## Creating a training set\n",
    "y_el_test = []\n",
    "y_sp_test = []\n",
    "for i in range(0,len(el_test)):\n",
    "    y_el_test.append([0,1])\n",
    "for i in range(0,len(sp_test)):\n",
    "    y_sp_test.append([1,0])\n",
    "X_test = el_test + sp_test\n",
    "y_test = y_el_test + y_sp_test\n",
    "\n",
    "\n",
    "\n",
    "\n"
   ]
  },
  {
   "cell_type": "code",
   "execution_count": 3,
   "metadata": {
    "collapsed": true
   },
   "outputs": [],
   "source": [
    "# Preparing our CNN\n",
    "sess = tf.InteractiveSession()\n",
    "x = tf.placeholder(\"float\", shape = [None, 10000])\n",
    "y_ = tf.placeholder(\"float\", shape = [None, 2])\n",
    "### Lets build a multi layer network\n",
    "def weight_variable(shape):\n",
    "    initial = tf.truncated_normal(shape, stddev=0.1)\n",
    "    return tf.Variable(initial)\n",
    "def bias_variable(shape):\n",
    "    initial = tf.constant(0.1, shape = shape)\n",
    "    return tf.Variable(initial)\n",
    "### Convolution and Pooling\n",
    "def conv2d(x,W):\n",
    "    return tf.nn.conv2d(x, W, strides=[1,1,1,1], padding='SAME')\n",
    "def max_pool_2x2(x):\n",
    "    return tf.nn.max_pool(x, ksize=[1,2,2,1], strides = [1,2,2,1], padding = 'SAME')\n"
   ]
  },
  {
   "cell_type": "code",
   "execution_count": 4,
   "metadata": {
    "collapsed": false
   },
   "outputs": [
    {
     "name": "stdout",
     "output_type": "stream",
     "text": [
      "Tensor(\"Variable/read:0\", shape=(100, 100, 1, 32), dtype=float32)\n",
      "Tensor(\"Variable_1/read:0\", shape=(32,), dtype=float32)\n",
      "Tensor(\"Reshape:0\", shape=(?, 100, 100, 1), dtype=float32)\n",
      "Tensor(\"Relu:0\", shape=(?, 100, 100, 32), dtype=float32)\n",
      "Tensor(\"MaxPool:0\", shape=(?, 50, 50, 32), dtype=float32)\n"
     ]
    }
   ],
   "source": [
    "### First Convolutional Layer\n",
    "W_conv1 = weight_variable([100,100,1,32])\n",
    "b_conv1 = bias_variable([32])\n",
    "\n",
    "x_image = tf.reshape(x, [-1,100,100,1])\n",
    "\n",
    "h_conv1 = tf.nn.relu(conv2d(x_image, W_conv1) + b_conv1)\n",
    "h_pool1 = max_pool_2x2(h_conv1)\n",
    "\n",
    "## The Information of our Parameters\n",
    "print W_conv1\n",
    "print b_conv1\n",
    "print x_image\n",
    "print h_conv1\n",
    "print h_pool1"
   ]
  },
  {
   "cell_type": "code",
   "execution_count": 5,
   "metadata": {
    "collapsed": true
   },
   "outputs": [],
   "source": [
    "## Second Convolutional layer\n",
    "### Second Convolutional Layer\n",
    "W_conv2 = weight_variable([100,100,32,64])\n",
    "b_conv2 = bias_variable([64])\n",
    "\n",
    "h_conv2 = tf.nn.relu(conv2d(h_pool1, W_conv2) + b_conv2)\n",
    "h_pool2 = max_pool_2x2(h_conv2)\n",
    "\n",
    "### Densely Connected Layer\n",
    "W_fc1 = weight_variable([25 * 25 * 64, 1024])\n",
    "b_fc1 = bias_variable([1024])\n",
    "\n",
    "h_pool2_flat = tf.reshape(h_pool2, [-1, 25 * 25 * 64])\n",
    "h_fc1 = tf.nn.relu(tf.matmul(h_pool2_flat, W_fc1) + b_fc1)\n"
   ]
  },
  {
   "cell_type": "code",
   "execution_count": null,
   "metadata": {
    "collapsed": false
   },
   "outputs": [
    {
     "name": "stdout",
     "output_type": "stream",
     "text": [
      "Tensor(\"Variable_2/read:0\", shape=(100, 100, 32, 64), dtype=float32)\n",
      "Tensor(\"Variable_3/read:0\", shape=(64,), dtype=float32)\n",
      "Tensor(\"Relu_1:0\", shape=(?, 50, 50, 64), dtype=float32)\n",
      "Tensor(\"MaxPool_1:0\", shape=(?, 25, 25, 64), dtype=float32)\n",
      "Tensor(\"Reshape_1:0\", shape=(?, 40000), dtype=float32)\n"
     ]
    }
   ],
   "source": [
    "### Dropout To prevent overfitting\n",
    "keep_prob = tf.placeholder(tf.float32)\n",
    "h_fc1_drop = tf.nn.dropout(h_fc1, keep_prob)\n",
    "\n",
    "### Readout Layer\n",
    "W_fc2 = weight_variable([1024, 2])\n",
    "b_fc2 = bias_variable([2])\n",
    "\n",
    "y_conv = tf.matmul(h_fc1_drop, W_fc2) + b_fc2\n",
    "\n",
    "# The Dimensions of our parameter\n",
    "print W_conv2\n",
    "print b_conv2\n",
    "print h_conv2\n",
    "print h_pool2\n",
    "print h_pool2_flat\n"
   ]
  },
  {
   "cell_type": "code",
   "execution_count": null,
   "metadata": {
    "collapsed": false,
    "scrolled": true
   },
   "outputs": [
    {
     "name": "stdout",
     "output_type": "stream",
     "text": [
      "0\n"
     ]
    }
   ],
   "source": [
    "# Computing and Training\n",
    "cross_entropy = tf.reduce_mean(tf.nn.softmax_cross_entropy_with_logits(y_conv, y_))\n",
    "train_step = tf.train.AdamOptimizer(1e-4).minimize(cross_entropy)\n",
    "correct_prediction = tf.equal(tf.argmax(y_conv,1), tf.argmax(y_,1))\n",
    "accuracy = tf.reduce_mean(tf.cast(correct_prediction, tf.float32))\n",
    "sess.run(tf.global_variables_initializer())\n",
    "for i in range(200):\n",
    "    batch_xs = X_train\n",
    "    batch_ys = y_train\n",
    "    if i%1 == 0:\n",
    "        print i\n",
    "        train_accuracy = accuracy.eval(feed_dict={x: batch_xs, y_: batch_ys, keep_prob: 1.0})\n",
    "        print(\"step %d, training accuracy %g\"%(i, train_accuracy))\n",
    "    \n",
    "    train_step.run(feed_dict={x: X_test, y_: y_test, keep_prob: 0.5})\n",
    "\n",
    "print(\"test accuracy %g\"%accuracy.eval(feed_dict={x: X_test, y_: y_test, keep_prob: 1.0}))\n"
   ]
  },
  {
   "cell_type": "code",
   "execution_count": null,
   "metadata": {
    "collapsed": true
   },
   "outputs": [],
   "source": []
  }
 ],
 "metadata": {
  "anaconda-cloud": {},
  "kernelspec": {
   "display_name": "Python [conda root]",
   "language": "python",
   "name": "conda-root-py"
  },
  "language_info": {
   "codemirror_mode": {
    "name": "ipython",
    "version": 2
   },
   "file_extension": ".py",
   "mimetype": "text/x-python",
   "name": "python",
   "nbconvert_exporter": "python",
   "pygments_lexer": "ipython2",
   "version": "2.7.12"
  }
 },
 "nbformat": 4,
 "nbformat_minor": 1
}
