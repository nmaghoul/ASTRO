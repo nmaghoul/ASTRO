{
 "cells": [
  {
   "cell_type": "code",
   "execution_count": 1,
   "metadata": {
    "collapsed": false
   },
   "outputs": [
    {
     "name": "stderr",
     "output_type": "stream",
     "text": [
      "/Users/nmaghoul/anaconda/lib/python2.7/site-packages/matplotlib/font_manager.py:273: UserWarning: Matplotlib is building the font cache using fc-list. This may take a moment.\n",
      "  warnings.warn('Matplotlib is building the font cache using fc-list. This may take a moment.')\n"
     ]
    }
   ],
   "source": [
    "import pandas as pd\n",
    "import numpy as np\n",
    "import matplotlib.pyplot as plt\n",
    "import seaborn as sb\n",
    "%matplotlib inline "
   ]
  },
  {
   "cell_type": "code",
   "execution_count": 2,
   "metadata": {
    "collapsed": true
   },
   "outputs": [],
   "source": [
    "G1 = pd.read_csv('GalaxyZoo1_DR_table2.csv')\n",
    "G1_Spiral = G1[G1['SPIRAL'] == 1].reset_index()\n",
    "### G1_Ellipse = G1[G1['ELLIPTICAL'] == 1].reset_index()"
   ]
  },
  {
   "cell_type": "code",
   "execution_count": null,
   "metadata": {
    "collapsed": true
   },
   "outputs": [],
   "source": [
    "import urllib\n",
    "folder = \"Galaxy_Images\"\n",
    "linkp1 = 'http://skyservice.pha.jhu.edu/DR7/ImgCutout/getjpeg.aspx?ra='\n",
    "linkp2 = '&scale=0.2&width=100&height=100'\n",
    "for i in range(len(G1_Spiral)):\n",
    "    name = str(G1_Spiral['OBJID'][i])\n",
    "    urllib.urlretrieve(linkp1+str(G1_Spiral['RA'][i]+'&'+'dec='+str(G1_Spiral['DEC'][i])+linkp2),folder+'/'+name+'.jpg')\n",
    "    print str(i)+' out of ' + str(len(G1_Spiral)) + ' ' + str(float(i/len(G1_Spiral))) + ' % Complete'"
   ]
  }
 ],
 "metadata": {
  "anaconda-cloud": {},
  "kernelspec": {
   "display_name": "Python [Root]",
   "language": "python",
   "name": "Python [Root]"
  },
  "language_info": {
   "codemirror_mode": {
    "name": "ipython",
    "version": 2
   },
   "file_extension": ".py",
   "mimetype": "text/x-python",
   "name": "python",
   "nbconvert_exporter": "python",
   "pygments_lexer": "ipython2",
   "version": "2.7.12"
  }
 },
 "nbformat": 4,
 "nbformat_minor": 0
}
